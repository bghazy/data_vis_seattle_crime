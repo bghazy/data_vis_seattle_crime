{
 "cells": [
  {
   "cell_type": "markdown",
   "metadata": {},
   "source": [
    "# Seattle, Which incidents are most common? Which district is most dangerous?"
   ]
  },
  {
   "cell_type": "code",
   "execution_count": 15,
   "metadata": {
    "collapsed": false
   },
   "outputs": [],
   "source": [
    "%matplotlib inline\n",
    "import pandas as pd \n",
    "import matplotlib.pyplot as plt\n",
    "import numpy as np\n",
    "train = pd.read_csv('data/seattle_incidents_summer_2014.csv', sep = ',',low_memory=False)"
   ]
  },
  {
   "cell_type": "markdown",
   "metadata": {},
   "source": [
    "# Most dangerous district\n",
    "\n",
    "The following table shows the ten most dangerous district."
   ]
  },
  {
   "cell_type": "code",
   "execution_count": 16,
   "metadata": {
    "collapsed": false,
    "scrolled": true
   },
   "outputs": [
    {
     "name": "stderr",
     "output_type": "stream",
     "text": [
      "/Users/ghazy/anaconda2/lib/python2.7/site-packages/ipykernel/__main__.py:2: FutureWarning: order is deprecated, use sort_values(...)\n",
      "  from ipykernel import kernelapp as app\n"
     ]
    },
    {
     "data": {
      "text/html": [
       "<div>\n",
       "<table border=\"1\" class=\"dataframe\">\n",
       "  <thead>\n",
       "    <tr style=\"text-align: right;\">\n",
       "      <th>District</th>\n",
       "      <th>District Ratio [%]</th>\n",
       "    </tr>\n",
       "  </thead>\n",
       "  <tbody>\n",
       "    <tr>\n",
       "      <th>M</th>\n",
       "      <td>8.060038</td>\n",
       "    </tr>\n",
       "    <tr>\n",
       "      <th>K</th>\n",
       "      <td>7.257695</td>\n",
       "    </tr>\n",
       "    <tr>\n",
       "      <th>B</th>\n",
       "      <td>7.132615</td>\n",
       "    </tr>\n",
       "    <tr>\n",
       "      <th>N</th>\n",
       "      <td>7.117362</td>\n",
       "    </tr>\n",
       "    <tr>\n",
       "      <th>E</th>\n",
       "      <td>6.879404</td>\n",
       "    </tr>\n",
       "    <tr>\n",
       "      <th>J</th>\n",
       "      <td>6.723817</td>\n",
       "    </tr>\n",
       "    <tr>\n",
       "      <th>U</th>\n",
       "      <td>6.589585</td>\n",
       "    </tr>\n",
       "    <tr>\n",
       "      <th>D</th>\n",
       "      <td>6.293664</td>\n",
       "    </tr>\n",
       "    <tr>\n",
       "      <th>L</th>\n",
       "      <td>6.046554</td>\n",
       "    </tr>\n",
       "    <tr>\n",
       "      <th>R</th>\n",
       "      <td>5.616401</td>\n",
       "    </tr>\n",
       "    <tr>\n",
       "      <th>Q</th>\n",
       "      <td>5.506574</td>\n",
       "    </tr>\n",
       "    <tr>\n",
       "      <th>C</th>\n",
       "      <td>5.125233</td>\n",
       "    </tr>\n",
       "    <tr>\n",
       "      <th>S</th>\n",
       "      <td>4.902529</td>\n",
       "    </tr>\n",
       "    <tr>\n",
       "      <th>F</th>\n",
       "      <td>4.862870</td>\n",
       "    </tr>\n",
       "    <tr>\n",
       "      <th>G</th>\n",
       "      <td>4.252723</td>\n",
       "    </tr>\n",
       "    <tr>\n",
       "      <th>W</th>\n",
       "      <td>4.039171</td>\n",
       "    </tr>\n",
       "    <tr>\n",
       "      <th>O</th>\n",
       "      <td>3.297843</td>\n",
       "    </tr>\n",
       "    <tr>\n",
       "      <th>99</th>\n",
       "      <td>0.122029</td>\n",
       "    </tr>\n",
       "  </tbody>\n",
       "</table>\n",
       "</div>"
      ],
      "text/plain": [
       "District  District Ratio [%]\n",
       "M                   8.060038\n",
       "K                   7.257695\n",
       "B                   7.132615\n",
       "N                   7.117362\n",
       "E                   6.879404\n",
       "J                   6.723817\n",
       "U                   6.589585\n",
       "D                   6.293664\n",
       "L                   6.046554\n",
       "R                   5.616401\n",
       "Q                   5.506574\n",
       "C                   5.125233\n",
       "S                   4.902529\n",
       "F                   4.862870\n",
       "G                   4.252723\n",
       "W                   4.039171\n",
       "O                   3.297843\n",
       "99                  0.122029"
      ]
     },
     "execution_count": 16,
     "metadata": {},
     "output_type": "execute_result"
    }
   ],
   "source": [
    "df = 100 * train['District/Sector'].value_counts() / len(train['District/Sector'])\n",
    "dfOrder   = df.order(ascending = False) #sort a series\n",
    "table = pd.DataFrame(dfOrder.head(20))\n",
    "table.columns = ['District Ratio [%]']\n",
    "table.columns.name = 'District'\n",
    "table"
   ]
  },
  {
   "cell_type": "code",
   "execution_count": 17,
   "metadata": {
    "collapsed": false
   },
   "outputs": [
    {
     "data": {
      "text/plain": [
       "<matplotlib.axes._subplots.AxesSubplot at 0x118a8e310>"
      ]
     },
     "execution_count": 17,
     "metadata": {},
     "output_type": "execute_result"
    },
    {
     "data": {
      "image/png": "[encoded data removed]",
      "text/plain": [
       "<matplotlib.figure.Figure at 0x113336350>"
      ]
     },
     "metadata": {},
     "output_type": "display_data"
    }
   ],
   "source": [
    "result = train[[u'RMS CDW ID',u'District/Sector']].groupby([u'District/Sector']).size()\n",
    "result.plot(kind='bar',fontsize=8)"
   ]
  },
  {
   "cell_type": "markdown",
   "metadata": {},
   "source": [
    "Finally, we can notice that the most dangerous sector is district M."
   ]
  },
  {
   "cell_type": "markdown",
   "metadata": {},
   "source": [
    "# Most Common Crime"
   ]
  },
  {
   "cell_type": "markdown",
   "metadata": {},
   "source": [
    "The following table shows the ten most commun crime."
   ]
  },
  {
   "cell_type": "code",
   "execution_count": 18,
   "metadata": {
    "collapsed": false
   },
   "outputs": [
    {
     "name": "stderr",
     "output_type": "stream",
     "text": [
      "/Users/ghazy/anaconda2/lib/python2.7/site-packages/ipykernel/__main__.py:2: FutureWarning: order is deprecated, use sort_values(...)\n",
      "  from ipykernel import kernelapp as app\n"
     ]
    },
    {
     "data": {
      "text/html": [
       "<div>\n",
       "<table border=\"1\" class=\"dataframe\">\n",
       "  <thead>\n",
       "    <tr style=\"text-align: right;\">\n",
       "      <th>Crime</th>\n",
       "      <th>Crime Ratio [%]</th>\n",
       "    </tr>\n",
       "  </thead>\n",
       "  <tbody>\n",
       "    <tr>\n",
       "      <th>CAR PROWL</th>\n",
       "      <td>19.006071</td>\n",
       "    </tr>\n",
       "    <tr>\n",
       "      <th>OTHER PROPERTY</th>\n",
       "      <td>11.455505</td>\n",
       "    </tr>\n",
       "    <tr>\n",
       "      <th>BURGLARY</th>\n",
       "      <td>9.798957</td>\n",
       "    </tr>\n",
       "    <tr>\n",
       "      <th>VEHICLE THEFT</th>\n",
       "      <td>9.326093</td>\n",
       "    </tr>\n",
       "    <tr>\n",
       "      <th>PROPERTY DAMAGE</th>\n",
       "      <td>7.214985</td>\n",
       "    </tr>\n",
       "    <tr>\n",
       "      <th>ASSAULT</th>\n",
       "      <td>6.156381</td>\n",
       "    </tr>\n",
       "    <tr>\n",
       "      <th>FRAUD</th>\n",
       "      <td>4.493731</td>\n",
       "    </tr>\n",
       "    <tr>\n",
       "      <th>DISTURBANCE</th>\n",
       "      <td>4.066628</td>\n",
       "    </tr>\n",
       "    <tr>\n",
       "      <th>THREATS</th>\n",
       "      <td>3.593764</td>\n",
       "    </tr>\n",
       "    <tr>\n",
       "      <th>STOLEN PROPERTY</th>\n",
       "      <td>3.465633</td>\n",
       "    </tr>\n",
       "    <tr>\n",
       "      <th>WARRANT ARREST</th>\n",
       "      <td>3.114799</td>\n",
       "    </tr>\n",
       "    <tr>\n",
       "      <th>SHOPLIFTING</th>\n",
       "      <td>2.879893</td>\n",
       "    </tr>\n",
       "    <tr>\n",
       "      <th>BIKE THEFT</th>\n",
       "      <td>2.431435</td>\n",
       "    </tr>\n",
       "    <tr>\n",
       "      <th>ROBBERY</th>\n",
       "      <td>2.245340</td>\n",
       "    </tr>\n",
       "    <tr>\n",
       "      <th>TRESPASS</th>\n",
       "      <td>1.482657</td>\n",
       "    </tr>\n",
       "    <tr>\n",
       "      <th>NARCOTICS</th>\n",
       "      <td>1.192837</td>\n",
       "    </tr>\n",
       "    <tr>\n",
       "      <th>BURGLARY-SECURE PARKING-RES</th>\n",
       "      <td>1.183685</td>\n",
       "    </tr>\n",
       "    <tr>\n",
       "      <th>MAIL THEFT</th>\n",
       "      <td>0.805394</td>\n",
       "    </tr>\n",
       "    <tr>\n",
       "      <th>TRAFFIC</th>\n",
       "      <td>0.768785</td>\n",
       "    </tr>\n",
       "    <tr>\n",
       "      <th>PROSTITUTION</th>\n",
       "      <td>0.616248</td>\n",
       "    </tr>\n",
       "  </tbody>\n",
       "</table>\n",
       "</div>"
      ],
      "text/plain": [
       "Crime                        Crime Ratio [%]\n",
       "CAR PROWL                          19.006071\n",
       "OTHER PROPERTY                     11.455505\n",
       "BURGLARY                            9.798957\n",
       "VEHICLE THEFT                       9.326093\n",
       "PROPERTY DAMAGE                     7.214985\n",
       "ASSAULT                             6.156381\n",
       "FRAUD                               4.493731\n",
       "DISTURBANCE                         4.066628\n",
       "THREATS                             3.593764\n",
       "STOLEN PROPERTY                     3.465633\n",
       "WARRANT ARREST                      3.114799\n",
       "SHOPLIFTING                         2.879893\n",
       "BIKE THEFT                          2.431435\n",
       "ROBBERY                             2.245340\n",
       "TRESPASS                            1.482657\n",
       "NARCOTICS                           1.192837\n",
       "BURGLARY-SECURE PARKING-RES         1.183685\n",
       "MAIL THEFT                          0.805394\n",
       "TRAFFIC                             0.768785\n",
       "PROSTITUTION                        0.616248"
      ]
     },
     "execution_count": 18,
     "metadata": {},
     "output_type": "execute_result"
    }
   ],
   "source": [
    "df = 100 * train['Summarized Offense Description'].value_counts() / len(train['Summarized Offense Description'])\n",
    "dfOrder   = df.order(ascending = False) #sort a series\n",
    "table = pd.DataFrame(dfOrder.head(20))\n",
    "table.columns = ['Crime Ratio [%]']\n",
    "table.columns.name = 'Crime'\n",
    "table"
   ]
  },
  {
   "cell_type": "code",
   "execution_count": 19,
   "metadata": {
    "collapsed": false
   },
   "outputs": [
    {
     "data": {
      "text/plain": [
       "<matplotlib.axes._subplots.AxesSubplot at 0x1151ba6d0>"
      ]
     },
     "execution_count": 19,
     "metadata": {},
     "output_type": "execute_result"
    },
    {
     "data": {
      "image/png": "[encoded data removed]",
      "text/plain": [
       "<matplotlib.figure.Figure at 0x1180bbe90>"
      ]
     },
     "metadata": {},
     "output_type": "display_data"
    }
   ],
   "source": [
    "result = train[[u'RMS CDW ID',u'Summarized Offense Description']].groupby([u'Summarized Offense Description']).size()\n",
    "result.plot(kind='bar',fontsize=8)"
   ]
  },
  {
   "cell_type": "markdown",
   "metadata": {},
   "source": [
    "In this chart we are describing the number of crimes by Summarized Offense Description, we can notice that the most commun crime is CAR PROWL"
   ]
  },
  {
   "cell_type": "markdown",
   "metadata": {},
   "source": [
    "# Crime and districts"
   ]
  },
  {
   "cell_type": "code",
   "execution_count": 20,
   "metadata": {
    "collapsed": false
   },
   "outputs": [
    {
     "name": "stderr",
     "output_type": "stream",
     "text": [
      "/Users/ghazy/anaconda2/lib/python2.7/site-packages/ipykernel/__main__.py:5: FutureWarning: order is deprecated, use sort_values(...)\n"
     ]
    },
    {
     "ename": "NameError",
     "evalue": "name 'dfCrCoOrder' is not defined",
     "output_type": "error",
     "traceback": [
      "\u001b[0;31m---------------------------------------------------------------------------\u001b[0m",
      "\u001b[0;31mNameError\u001b[0m                                 Traceback (most recent call last)",
      "\u001b[0;32m<ipython-input-20-99747c4bef7b>\u001b[0m in \u001b[0;36m<module>\u001b[0;34m()\u001b[0m\n\u001b[1;32m      5\u001b[0m \u001b[0mzoneCrPerCapOrd\u001b[0m   \u001b[0;34m=\u001b[0m \u001b[0mzoneCrPerCap\u001b[0m\u001b[0;34m.\u001b[0m\u001b[0morder\u001b[0m\u001b[0;34m(\u001b[0m\u001b[0mascending\u001b[0m \u001b[0;34m=\u001b[0m \u001b[0mFalse\u001b[0m\u001b[0;34m)\u001b[0m\u001b[0;34m\u001b[0m\u001b[0m\n\u001b[1;32m      6\u001b[0m \u001b[0mzoneCrPerCapOrd\u001b[0m \u001b[0;34m=\u001b[0m \u001b[0mzoneCrPerCapOrd\u001b[0m\u001b[0;34m[\u001b[0m\u001b[0;34m~\u001b[0m\u001b[0mpd\u001b[0m\u001b[0;34m.\u001b[0m\u001b[0misnull\u001b[0m\u001b[0;34m(\u001b[0m\u001b[0mzoneCrPerCapOrd\u001b[0m\u001b[0;34m)\u001b[0m\u001b[0;34m]\u001b[0m\u001b[0;34m\u001b[0m\u001b[0m\n\u001b[0;32m----> 7\u001b[0;31m \u001b[0mdfStat\u001b[0m \u001b[0;34m=\u001b[0m \u001b[0mpd\u001b[0m\u001b[0;34m.\u001b[0m\u001b[0mDataFrame\u001b[0m\u001b[0;34m(\u001b[0m\u001b[0mindex\u001b[0m\u001b[0;34m=\u001b[0m\u001b[0mzoneCrPerCapOrd\u001b[0m\u001b[0;34m.\u001b[0m\u001b[0mindex\u001b[0m\u001b[0;34m,\u001b[0m \u001b[0mcolumns\u001b[0m\u001b[0;34m=\u001b[0m\u001b[0mdfCrCoOrder\u001b[0m\u001b[0;34m.\u001b[0m\u001b[0mindex\u001b[0m\u001b[0;34m[\u001b[0m\u001b[0;36m0\u001b[0m\u001b[0;34m:\u001b[0m\u001b[0;36m5\u001b[0m\u001b[0;34m]\u001b[0m\u001b[0;34m)\u001b[0m\u001b[0;34m\u001b[0m\u001b[0m\n\u001b[0m\u001b[1;32m      8\u001b[0m \u001b[0mdfFullStat\u001b[0m \u001b[0;34m=\u001b[0m \u001b[0mpd\u001b[0m\u001b[0;34m.\u001b[0m\u001b[0mconcat\u001b[0m\u001b[0;34m(\u001b[0m\u001b[0;34m[\u001b[0m\u001b[0mzoneCrPerCapOrd\u001b[0m\u001b[0;34m,\u001b[0m \u001b[0mdfStat\u001b[0m\u001b[0;34m]\u001b[0m\u001b[0;34m,\u001b[0m \u001b[0maxis\u001b[0m \u001b[0;34m=\u001b[0m \u001b[0;36m1\u001b[0m\u001b[0;34m)\u001b[0m\u001b[0;34m\u001b[0m\u001b[0m\n\u001b[1;32m      9\u001b[0m \u001b[0mdfFullStat\u001b[0m\u001b[0;34m.\u001b[0m\u001b[0mcolumns\u001b[0m \u001b[0;34m=\u001b[0m \u001b[0;34m[\u001b[0m\u001b[0;34mu'OFFENSE'\u001b[0m\u001b[0;34m,\u001b[0m \u001b[0;34mu'STOLEN PROPERTY'\u001b[0m\u001b[0;34m,\u001b[0m \u001b[0;34mu'BURGLARY'\u001b[0m\u001b[0;34m,\u001b[0m \u001b[0;34mu'VEHICLE THEFT'\u001b[0m\u001b[0;34m,\u001b[0m \u001b[0;34mu'ASSAULT'\u001b[0m\u001b[0;34m,\u001b[0m \u001b[0;34mu'OTHERS'\u001b[0m\u001b[0;34m]\u001b[0m\u001b[0;34m\u001b[0m\u001b[0m\n",
      "\u001b[0;31mNameError\u001b[0m: name 'dfCrCoOrder' is not defined"
     ]
    }
   ],
   "source": [
    "result = train[[u'RMS CDW ID',u'Summarized Offense Description',u'District/Sector']].groupby([u'District/Sector',u'Summarized Offense Description']).size()\n",
    "result = result.unstack(level=1)\n",
    "result = result.fillna(0)\n",
    "ax = result.plot(kind='line')\n",
    "lgd = ax.legend(loc='center left', bbox_to_anchor=(1, 0.5))\n"
   ]
  },
  {
   "cell_type": "markdown",
   "metadata": {},
   "source": [
    "In this chart we are describing the number of crimes by District/Sector and Summarized Offense Description, we can notice that the most commun crime is without surprise CAR PROWL in disrict M."
   ]
  }
 ],
 "metadata": {
  "anaconda-cloud": {},
  "kernelspec": {
   "display_name": "Python [default]",
   "language": "python",
   "name": "python2"
  },
  "language_info": {
   "codemirror_mode": {
    "name": "ipython",
    "version": 2
   },
   "file_extension": ".py",
   "mimetype": "text/x-python",
   "name": "python",
   "nbconvert_exporter": "python",
   "pygments_lexer": "ipython2",
   "version": "2.7.12"
  }
 },
 "nbformat": 4,
 "nbformat_minor": 0
}
